{
  "nbformat": 4,
  "nbformat_minor": 0,
  "metadata": {
    "colab": {
      "provenance": []
    },
    "kernelspec": {
      "name": "python3",
      "display_name": "Python 3"
    },
    "language_info": {
      "name": "python"
    }
  },
  "cells": [
    {
      "cell_type": "code",
      "source": [
        "with open(\"firebase.py\", \"w\") as f:\n",
        "    f.write(\"\"\"\n",
        "import firebase_admin\n",
        "from firebase_admin import credentials, firestore\n",
        "\n",
        "def init_firebase(json_path):\n",
        "    if not firebase_admin._apps:\n",
        "        cred = credentials.Certificate(json_path)\n",
        "        firebase_admin.initialize_app(cred)\n",
        "    return firestore.client()\n",
        "\"\"\")\n"
      ],
      "metadata": {
        "id": "7SFxpnh7M5TI"
      },
      "execution_count": null,
      "outputs": []
    },
    {
      "cell_type": "code",
      "source": [
        "!pip install pyngrok"
      ],
      "metadata": {
        "id": "s3VC0NkbsQHo"
      },
      "execution_count": null,
      "outputs": []
    },
    {
      "cell_type": "code",
      "source": [
        "!pip install flask_ngrok"
      ],
      "metadata": {
        "id": "x5NyYIcLvDo7"
      },
      "execution_count": null,
      "outputs": []
    },
    {
      "cell_type": "code",
      "source": [
        "from firebase import init_firebase\n",
        "\n",
        "db = init_firebase(\"abc.json\") //firebase key값"
      ],
      "metadata": {
        "id": "bRbwvWVirNiS"
      },
      "execution_count": null,
      "outputs": []
    },
    {
      "cell_type": "code",
      "source": [
        "from flask import Flask, request, jsonify\n",
        "from pyngrok import ngrok\n",
        "\n",
        "app = Flask(__name__)"
      ],
      "metadata": {
        "id": "p6xRbeFUWMuE"
      },
      "execution_count": null,
      "outputs": []
    },
    {
      "cell_type": "code",
      "source": [
        "!ngrok config add-authtoken hhh //ngrok authtoken"
      ],
      "metadata": {
        "id": "fbxlg8joXY-z"
      },
      "execution_count": null,
      "outputs": []
    },
    {
      "cell_type": "code",
      "source": [
        "public_url = ngrok.connect(5000)"
      ],
      "metadata": {
        "id": "QPdk26P3WO9i"
      },
      "execution_count": null,
      "outputs": []
    },
    {
      "cell_type": "code",
      "source": [
        "print(public_url)"
      ],
      "metadata": {
        "id": "EBtwaoxFXerM"
      },
      "execution_count": null,
      "outputs": []
    },
    {
      "cell_type": "code",
      "source": [
        "from flask import Flask, request, jsonify\n",
        "from flask_ngrok import run_with_ngrok\n",
        "\n",
        "@app.route(\"/esp-data\", methods=[\"POST\"])\n",
        "def receive_data():\n",
        "    data = request.get_json()\n",
        "    print(\"ESP에서 받은 데이터:\", data)\n",
        "    print(\"value:\", data.get(\"value\"))\n",
        "    return jsonify({\"status\": \"ok\"}), 200\n",
        "\n",
        "app.run()"
      ],
      "metadata": {
        "id": "8jfMlOVeM6T6"
      },
      "execution_count": null,
      "outputs": []
    },
    {
      "cell_type": "code",
      "source": [],
      "metadata": {
        "id": "pysjWSjNqBja"
      },
      "execution_count": null,
      "outputs": []
    }
  ]
}